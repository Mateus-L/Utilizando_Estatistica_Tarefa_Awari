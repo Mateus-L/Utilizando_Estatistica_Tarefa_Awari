{
 "cells": [
  {
   "cell_type": "code",
   "execution_count": 1,
   "metadata": {},
   "outputs": [],
   "source": [
    "import pandas as pd\n",
    "import numpy as np\n",
    "from sklearn.linear_model import LinearRegression\n",
    "import seaborn as sns\n",
    "import matplotlib.pyplot as plt\n",
    "from datetime import datetime"
   ]
  },
  {
   "cell_type": "code",
   "execution_count": 2,
   "metadata": {},
   "outputs": [],
   "source": [
    "pay = pd.read_csv('olist_order_payments_dataset.csv')\n",
    "po  = pd.read_csv('olist_order_items_dataset.csv')\n",
    "o   = pd.read_csv('olist_orders_dataset.csv')\n",
    "\n",
    "#mesclar tabelas\n",
    "df = pd.merge(pay, po, on =['order_id'])\n",
    "\n",
    "df = pd.merge(df, o, on = ['order_id'])"
   ]
  },
  {
   "cell_type": "code",
   "execution_count": 3,
   "metadata": {},
   "outputs": [
    {
     "data": {
      "text/html": [
       "<div>\n",
       "<style scoped>\n",
       "    .dataframe tbody tr th:only-of-type {\n",
       "        vertical-align: middle;\n",
       "    }\n",
       "\n",
       "    .dataframe tbody tr th {\n",
       "        vertical-align: top;\n",
       "    }\n",
       "\n",
       "    .dataframe thead th {\n",
       "        text-align: right;\n",
       "    }\n",
       "</style>\n",
       "<table border=\"1\" class=\"dataframe\">\n",
       "  <thead>\n",
       "    <tr style=\"text-align: right;\">\n",
       "      <th></th>\n",
       "      <th>order_id</th>\n",
       "      <th>payment_sequential</th>\n",
       "      <th>payment_type</th>\n",
       "      <th>payment_installments</th>\n",
       "      <th>payment_value</th>\n",
       "      <th>order_item_id</th>\n",
       "      <th>product_id</th>\n",
       "      <th>seller_id</th>\n",
       "      <th>shipping_limit_date</th>\n",
       "      <th>price</th>\n",
       "      <th>freight_value</th>\n",
       "      <th>customer_id</th>\n",
       "      <th>order_status</th>\n",
       "      <th>order_purchase_timestamp</th>\n",
       "      <th>order_approved_at</th>\n",
       "      <th>order_delivered_carrier_date</th>\n",
       "      <th>order_delivered_customer_date</th>\n",
       "      <th>order_estimated_delivery_date</th>\n",
       "    </tr>\n",
       "  </thead>\n",
       "  <tbody>\n",
       "    <tr>\n",
       "      <th>0</th>\n",
       "      <td>b81ef226f3fe1789b1e8b2acac839d17</td>\n",
       "      <td>1</td>\n",
       "      <td>credit_card</td>\n",
       "      <td>8</td>\n",
       "      <td>99.33</td>\n",
       "      <td>1</td>\n",
       "      <td>af74cc53dcffc8384b29e7abfa41902b</td>\n",
       "      <td>213b25e6f54661939f11710a6fddb871</td>\n",
       "      <td>2018-05-02 22:15:09</td>\n",
       "      <td>79.80</td>\n",
       "      <td>19.53</td>\n",
       "      <td>0a8556ac6be836b46b3e89920d59291c</td>\n",
       "      <td>delivered</td>\n",
       "      <td>2018-04-25 22:01:49</td>\n",
       "      <td>2018-04-25 22:15:09</td>\n",
       "      <td>2018-05-02 15:20:00</td>\n",
       "      <td>2018-05-09 17:36:51</td>\n",
       "      <td>2018-05-22 00:00:00</td>\n",
       "    </tr>\n",
       "    <tr>\n",
       "      <th>1</th>\n",
       "      <td>a9810da82917af2d9aefd1278f1dcfa0</td>\n",
       "      <td>1</td>\n",
       "      <td>credit_card</td>\n",
       "      <td>1</td>\n",
       "      <td>24.39</td>\n",
       "      <td>1</td>\n",
       "      <td>a630cc320a8c872f9de830cf121661a3</td>\n",
       "      <td>eaf6d55068dea77334e8477d3878d89e</td>\n",
       "      <td>2018-07-02 11:18:58</td>\n",
       "      <td>17.00</td>\n",
       "      <td>7.39</td>\n",
       "      <td>f2c7fc58a9de810828715166c672f10a</td>\n",
       "      <td>delivered</td>\n",
       "      <td>2018-06-26 11:01:38</td>\n",
       "      <td>2018-06-26 11:18:58</td>\n",
       "      <td>2018-06-28 14:18:00</td>\n",
       "      <td>2018-06-29 20:32:09</td>\n",
       "      <td>2018-07-16 00:00:00</td>\n",
       "    </tr>\n",
       "    <tr>\n",
       "      <th>2</th>\n",
       "      <td>25e8ea4e93396b6fa0d3dd708e76c1bd</td>\n",
       "      <td>1</td>\n",
       "      <td>credit_card</td>\n",
       "      <td>1</td>\n",
       "      <td>65.71</td>\n",
       "      <td>1</td>\n",
       "      <td>2028bf1b01cafb2d2b1901fca4083222</td>\n",
       "      <td>cc419e0650a3c5ba77189a1882b7556a</td>\n",
       "      <td>2017-12-26 09:52:34</td>\n",
       "      <td>56.99</td>\n",
       "      <td>8.72</td>\n",
       "      <td>25b14b69de0b6e184ae6fe2755e478f9</td>\n",
       "      <td>delivered</td>\n",
       "      <td>2017-12-12 11:19:55</td>\n",
       "      <td>2017-12-14 09:52:34</td>\n",
       "      <td>2017-12-15 20:13:22</td>\n",
       "      <td>2017-12-18 17:24:41</td>\n",
       "      <td>2018-01-04 00:00:00</td>\n",
       "    </tr>\n",
       "    <tr>\n",
       "      <th>3</th>\n",
       "      <td>ba78997921bbcdc1373bb41e913ab953</td>\n",
       "      <td>1</td>\n",
       "      <td>credit_card</td>\n",
       "      <td>8</td>\n",
       "      <td>107.78</td>\n",
       "      <td>1</td>\n",
       "      <td>548e5bfe28edceab6b51fa707cc9556f</td>\n",
       "      <td>da8622b14eb17ae2831f4ac5b9dab84a</td>\n",
       "      <td>2017-12-12 12:13:20</td>\n",
       "      <td>89.90</td>\n",
       "      <td>17.88</td>\n",
       "      <td>7a5d8efaaa1081f800628c30d2b0728f</td>\n",
       "      <td>delivered</td>\n",
       "      <td>2017-12-06 12:04:06</td>\n",
       "      <td>2017-12-06 12:13:20</td>\n",
       "      <td>2017-12-07 20:28:28</td>\n",
       "      <td>2017-12-21 01:35:51</td>\n",
       "      <td>2018-01-04 00:00:00</td>\n",
       "    </tr>\n",
       "    <tr>\n",
       "      <th>4</th>\n",
       "      <td>42fdf880ba16b47b59251dd489d4441a</td>\n",
       "      <td>1</td>\n",
       "      <td>credit_card</td>\n",
       "      <td>2</td>\n",
       "      <td>128.45</td>\n",
       "      <td>1</td>\n",
       "      <td>386486367c1f9d4f587a8864ccb6902b</td>\n",
       "      <td>cca3071e3e9bb7d12640c9fbe2301306</td>\n",
       "      <td>2018-05-31 16:14:41</td>\n",
       "      <td>113.57</td>\n",
       "      <td>14.88</td>\n",
       "      <td>15fd6fb8f8312dbb4674e4518d6fa3b3</td>\n",
       "      <td>delivered</td>\n",
       "      <td>2018-05-21 13:59:17</td>\n",
       "      <td>2018-05-21 16:14:41</td>\n",
       "      <td>2018-05-22 11:46:00</td>\n",
       "      <td>2018-06-01 21:44:53</td>\n",
       "      <td>2018-06-13 00:00:00</td>\n",
       "    </tr>\n",
       "  </tbody>\n",
       "</table>\n",
       "</div>"
      ],
      "text/plain": [
       "                           order_id  payment_sequential payment_type  \\\n",
       "0  b81ef226f3fe1789b1e8b2acac839d17                   1  credit_card   \n",
       "1  a9810da82917af2d9aefd1278f1dcfa0                   1  credit_card   \n",
       "2  25e8ea4e93396b6fa0d3dd708e76c1bd                   1  credit_card   \n",
       "3  ba78997921bbcdc1373bb41e913ab953                   1  credit_card   \n",
       "4  42fdf880ba16b47b59251dd489d4441a                   1  credit_card   \n",
       "\n",
       "   payment_installments  payment_value  order_item_id  \\\n",
       "0                     8          99.33              1   \n",
       "1                     1          24.39              1   \n",
       "2                     1          65.71              1   \n",
       "3                     8         107.78              1   \n",
       "4                     2         128.45              1   \n",
       "\n",
       "                         product_id                         seller_id  \\\n",
       "0  af74cc53dcffc8384b29e7abfa41902b  213b25e6f54661939f11710a6fddb871   \n",
       "1  a630cc320a8c872f9de830cf121661a3  eaf6d55068dea77334e8477d3878d89e   \n",
       "2  2028bf1b01cafb2d2b1901fca4083222  cc419e0650a3c5ba77189a1882b7556a   \n",
       "3  548e5bfe28edceab6b51fa707cc9556f  da8622b14eb17ae2831f4ac5b9dab84a   \n",
       "4  386486367c1f9d4f587a8864ccb6902b  cca3071e3e9bb7d12640c9fbe2301306   \n",
       "\n",
       "   shipping_limit_date   price  freight_value  \\\n",
       "0  2018-05-02 22:15:09   79.80          19.53   \n",
       "1  2018-07-02 11:18:58   17.00           7.39   \n",
       "2  2017-12-26 09:52:34   56.99           8.72   \n",
       "3  2017-12-12 12:13:20   89.90          17.88   \n",
       "4  2018-05-31 16:14:41  113.57          14.88   \n",
       "\n",
       "                        customer_id order_status order_purchase_timestamp  \\\n",
       "0  0a8556ac6be836b46b3e89920d59291c    delivered      2018-04-25 22:01:49   \n",
       "1  f2c7fc58a9de810828715166c672f10a    delivered      2018-06-26 11:01:38   \n",
       "2  25b14b69de0b6e184ae6fe2755e478f9    delivered      2017-12-12 11:19:55   \n",
       "3  7a5d8efaaa1081f800628c30d2b0728f    delivered      2017-12-06 12:04:06   \n",
       "4  15fd6fb8f8312dbb4674e4518d6fa3b3    delivered      2018-05-21 13:59:17   \n",
       "\n",
       "     order_approved_at order_delivered_carrier_date  \\\n",
       "0  2018-04-25 22:15:09          2018-05-02 15:20:00   \n",
       "1  2018-06-26 11:18:58          2018-06-28 14:18:00   \n",
       "2  2017-12-14 09:52:34          2017-12-15 20:13:22   \n",
       "3  2017-12-06 12:13:20          2017-12-07 20:28:28   \n",
       "4  2018-05-21 16:14:41          2018-05-22 11:46:00   \n",
       "\n",
       "  order_delivered_customer_date order_estimated_delivery_date  \n",
       "0           2018-05-09 17:36:51           2018-05-22 00:00:00  \n",
       "1           2018-06-29 20:32:09           2018-07-16 00:00:00  \n",
       "2           2017-12-18 17:24:41           2018-01-04 00:00:00  \n",
       "3           2017-12-21 01:35:51           2018-01-04 00:00:00  \n",
       "4           2018-06-01 21:44:53           2018-06-13 00:00:00  "
      ]
     },
     "execution_count": 3,
     "metadata": {},
     "output_type": "execute_result"
    }
   ],
   "source": [
    "#Filtro para limitar entre janeiro/2017 e agosto/2018\n",
    "dfilter = df.loc[(df['order_approved_at'] >= '2017-01-01') &\n",
    "       (df['order_approved_at'] <= '2018-08-01')]\n",
    "\n",
    "dfilter.head()"
   ]
  },
  {
   "cell_type": "markdown",
   "metadata": {},
   "source": [
    "# Gerando uma amostra de 70%"
   ]
  },
  {
   "cell_type": "code",
   "execution_count": 4,
   "metadata": {},
   "outputs": [
    {
     "data": {
      "text/html": [
       "<div>\n",
       "<style scoped>\n",
       "    .dataframe tbody tr th:only-of-type {\n",
       "        vertical-align: middle;\n",
       "    }\n",
       "\n",
       "    .dataframe tbody tr th {\n",
       "        vertical-align: top;\n",
       "    }\n",
       "\n",
       "    .dataframe thead th {\n",
       "        text-align: right;\n",
       "    }\n",
       "</style>\n",
       "<table border=\"1\" class=\"dataframe\">\n",
       "  <thead>\n",
       "    <tr style=\"text-align: right;\">\n",
       "      <th></th>\n",
       "      <th>payment_sequential</th>\n",
       "      <th>payment_installments</th>\n",
       "      <th>payment_value</th>\n",
       "      <th>order_item_id</th>\n",
       "      <th>price</th>\n",
       "      <th>freight_value</th>\n",
       "    </tr>\n",
       "  </thead>\n",
       "  <tbody>\n",
       "    <tr>\n",
       "      <th>count</th>\n",
       "      <td>76680.000000</td>\n",
       "      <td>76680.000000</td>\n",
       "      <td>76680.000000</td>\n",
       "      <td>76680.000000</td>\n",
       "      <td>76680.000000</td>\n",
       "      <td>76680.000000</td>\n",
       "    </tr>\n",
       "    <tr>\n",
       "      <th>mean</th>\n",
       "      <td>1.095801</td>\n",
       "      <td>2.946179</td>\n",
       "      <td>173.283540</td>\n",
       "      <td>1.198422</td>\n",
       "      <td>120.534075</td>\n",
       "      <td>19.971247</td>\n",
       "    </tr>\n",
       "    <tr>\n",
       "      <th>std</th>\n",
       "      <td>0.730143</td>\n",
       "      <td>2.782628</td>\n",
       "      <td>275.881907</td>\n",
       "      <td>0.698595</td>\n",
       "      <td>182.854385</td>\n",
       "      <td>15.649946</td>\n",
       "    </tr>\n",
       "    <tr>\n",
       "      <th>min</th>\n",
       "      <td>1.000000</td>\n",
       "      <td>0.000000</td>\n",
       "      <td>0.000000</td>\n",
       "      <td>1.000000</td>\n",
       "      <td>0.850000</td>\n",
       "      <td>0.000000</td>\n",
       "    </tr>\n",
       "    <tr>\n",
       "      <th>25%</th>\n",
       "      <td>1.000000</td>\n",
       "      <td>1.000000</td>\n",
       "      <td>61.010000</td>\n",
       "      <td>1.000000</td>\n",
       "      <td>39.900000</td>\n",
       "      <td>13.080000</td>\n",
       "    </tr>\n",
       "    <tr>\n",
       "      <th>50%</th>\n",
       "      <td>1.000000</td>\n",
       "      <td>2.000000</td>\n",
       "      <td>108.810000</td>\n",
       "      <td>1.000000</td>\n",
       "      <td>74.990000</td>\n",
       "      <td>16.230000</td>\n",
       "    </tr>\n",
       "    <tr>\n",
       "      <th>75%</th>\n",
       "      <td>1.000000</td>\n",
       "      <td>4.000000</td>\n",
       "      <td>190.307500</td>\n",
       "      <td>1.000000</td>\n",
       "      <td>134.990000</td>\n",
       "      <td>21.150000</td>\n",
       "    </tr>\n",
       "    <tr>\n",
       "      <th>max</th>\n",
       "      <td>26.000000</td>\n",
       "      <td>24.000000</td>\n",
       "      <td>13664.080000</td>\n",
       "      <td>20.000000</td>\n",
       "      <td>6735.000000</td>\n",
       "      <td>409.680000</td>\n",
       "    </tr>\n",
       "  </tbody>\n",
       "</table>\n",
       "</div>"
      ],
      "text/plain": [
       "       payment_sequential  payment_installments  payment_value  order_item_id  \\\n",
       "count        76680.000000          76680.000000   76680.000000   76680.000000   \n",
       "mean             1.095801              2.946179     173.283540       1.198422   \n",
       "std              0.730143              2.782628     275.881907       0.698595   \n",
       "min              1.000000              0.000000       0.000000       1.000000   \n",
       "25%              1.000000              1.000000      61.010000       1.000000   \n",
       "50%              1.000000              2.000000     108.810000       1.000000   \n",
       "75%              1.000000              4.000000     190.307500       1.000000   \n",
       "max             26.000000             24.000000   13664.080000      20.000000   \n",
       "\n",
       "              price  freight_value  \n",
       "count  76680.000000   76680.000000  \n",
       "mean     120.534075      19.971247  \n",
       "std      182.854385      15.649946  \n",
       "min        0.850000       0.000000  \n",
       "25%       39.900000      13.080000  \n",
       "50%       74.990000      16.230000  \n",
       "75%      134.990000      21.150000  \n",
       "max     6735.000000     409.680000  "
      ]
     },
     "execution_count": 4,
     "metadata": {},
     "output_type": "execute_result"
    }
   ],
   "source": [
    "p = int((dfilter['order_id'].count())*0.7)\n",
    "\n",
    "dfamostra = dfilter.sample(p)\n",
    "\n",
    "dfamostra.describe()"
   ]
  },
  {
   "cell_type": "markdown",
   "metadata": {},
   "source": [
    "# Probabilidade de cada método de pagamento"
   ]
  },
  {
   "cell_type": "code",
   "execution_count": 5,
   "metadata": {},
   "outputs": [
    {
     "name": "stdout",
     "output_type": "stream",
     "text": [
      "Probabilidade de cada método de pagamento:\n"
     ]
    },
    {
     "data": {
      "text/html": [
       "<div>\n",
       "<style scoped>\n",
       "    .dataframe tbody tr th:only-of-type {\n",
       "        vertical-align: middle;\n",
       "    }\n",
       "\n",
       "    .dataframe tbody tr th {\n",
       "        vertical-align: top;\n",
       "    }\n",
       "\n",
       "    .dataframe thead th {\n",
       "        text-align: right;\n",
       "    }\n",
       "</style>\n",
       "<table border=\"1\" class=\"dataframe\">\n",
       "  <thead>\n",
       "    <tr style=\"text-align: right;\">\n",
       "      <th></th>\n",
       "      <th>payment_type</th>\n",
       "      <th>percent</th>\n",
       "    </tr>\n",
       "  </thead>\n",
       "  <tbody>\n",
       "    <tr>\n",
       "      <th>0</th>\n",
       "      <td>credit_card</td>\n",
       "      <td>0.737924</td>\n",
       "    </tr>\n",
       "    <tr>\n",
       "      <th>1</th>\n",
       "      <td>boleto</td>\n",
       "      <td>0.194718</td>\n",
       "    </tr>\n",
       "    <tr>\n",
       "      <th>2</th>\n",
       "      <td>voucher</td>\n",
       "      <td>0.054838</td>\n",
       "    </tr>\n",
       "    <tr>\n",
       "      <th>3</th>\n",
       "      <td>debit_card</td>\n",
       "      <td>0.012520</td>\n",
       "    </tr>\n",
       "  </tbody>\n",
       "</table>\n",
       "</div>"
      ],
      "text/plain": [
       "  payment_type   percent\n",
       "0  credit_card  0.737924\n",
       "1       boleto  0.194718\n",
       "2      voucher  0.054838\n",
       "3   debit_card  0.012520"
      ]
     },
     "execution_count": 5,
     "metadata": {},
     "output_type": "execute_result"
    }
   ],
   "source": [
    "#pgts[['payment_type','count']] = dfamostra[['payment_type']].value_counts().reset_index()\n",
    "\n",
    "pgts = dfamostra[['payment_type']].value_counts().reset_index()\n",
    "\n",
    "pgts = pgts.rename(columns={0: \"count\"})\n",
    "\n",
    "print('Probabilidade de cada método de pagamento:') \n",
    "#pgts = pgts[['payment_type','count']]\n",
    "\n",
    "pgts['percent'] = pgts['count']/pgts['count'].sum()\n",
    "\n",
    "\n",
    "pgts[['payment_type','percent']]\n"
   ]
  },
  {
   "cell_type": "markdown",
   "metadata": {},
   "source": [
    "# Probabilidade de cada método de pagamento"
   ]
  },
  {
   "cell_type": "code",
   "execution_count": 6,
   "metadata": {},
   "outputs": [
    {
     "name": "stdout",
     "output_type": "stream",
     "text": [
      "A probabilidade do pagamento ser realizado via boleto é de 19%.\n"
     ]
    }
   ],
   "source": [
    "boleto_percent = int(pgts['percent'].loc[pgts['payment_type'] == 'boleto'].sum()*100)\n",
    "\n",
    "print(f'A probabilidade do pagamento ser realizado via boleto é de {boleto_percent}%.')"
   ]
  },
  {
   "cell_type": "markdown",
   "metadata": {},
   "source": [
    "# Correlação entre preço produto e preço frete"
   ]
  },
  {
   "cell_type": "code",
   "execution_count": 7,
   "metadata": {},
   "outputs": [
    {
     "name": "stdout",
     "output_type": "stream",
     "text": [
      "A correlação de preço de produto e preço do frete é de 41%\n"
     ]
    }
   ],
   "source": [
    "#correlação entre preço produto e preço frete\n",
    "\n",
    "x_prod = np.array(dfamostra['price']) \n",
    "y_frei = np.array(dfamostra['freight_value'])\n",
    "\n",
    "corr = np.corrcoef(x_prod, y_frei)\n",
    "\n",
    "cor = pd.DataFrame(corr, columns = ['product_price','freight_value'])\n",
    "\n",
    "\n",
    "print(f'A correlação de preço de produto e preço do frete é de {int(corr[0,1]*100)}%')"
   ]
  },
  {
   "cell_type": "code",
   "execution_count": 8,
   "metadata": {},
   "outputs": [
    {
     "name": "stdout",
     "output_type": "stream",
     "text": [
      "Gráfico com a correlação de preço de produto e preço do frete:\n"
     ]
    },
    {
     "data": {
      "text/plain": [
       "<seaborn.axisgrid.FacetGrid at 0x1ca7404b5e0>"
      ]
     },
     "execution_count": 8,
     "metadata": {},
     "output_type": "execute_result"
    },
    {
     "data": {
      "image/png": "[encoded data removed]",
      "text/plain": [
       "<Figure size 360x360 with 1 Axes>"
      ]
     },
     "metadata": {},
     "output_type": "display_data"
    }
   ],
   "source": [
    "print('Gráfico com a correlação de preço de produto e preço do frete:')\n",
    "\n",
    "sns.set_theme(style=\"whitegrid\")\n",
    "sns.lmplot(\n",
    "    data=dfamostra, x= 'price', y= 'freight_value')"
   ]
  },
  {
   "cell_type": "code",
   "execution_count": 9,
   "metadata": {
    "scrolled": true
   },
   "outputs": [
    {
     "name": "stderr",
     "output_type": "stream",
     "text": [
      "<ipython-input-9-f20a6f820845>:3: SettingWithCopyWarning: \n",
      "A value is trying to be set on a copy of a slice from a DataFrame.\n",
      "Try using .loc[row_indexer,col_indexer] = value instead\n",
      "\n",
      "See the caveats in the documentation: https://pandas.pydata.org/pandas-docs/stable/user_guide/indexing.html#returning-a-view-versus-a-copy\n",
      "  dfpred['order_approved_at'] =  pd.to_datetime(dfpred['order_approved_at']).dt.to_period('m')\n"
     ]
    },
    {
     "data": {
      "text/html": [
       "<div>\n",
       "<style scoped>\n",
       "    .dataframe tbody tr th:only-of-type {\n",
       "        vertical-align: middle;\n",
       "    }\n",
       "\n",
       "    .dataframe tbody tr th {\n",
       "        vertical-align: top;\n",
       "    }\n",
       "\n",
       "    .dataframe thead th {\n",
       "        text-align: right;\n",
       "    }\n",
       "</style>\n",
       "<table border=\"1\" class=\"dataframe\">\n",
       "  <thead>\n",
       "    <tr style=\"text-align: right;\">\n",
       "      <th></th>\n",
       "      <th>price</th>\n",
       "      <th>freight_value</th>\n",
       "    </tr>\n",
       "    <tr>\n",
       "      <th>order_approved_at</th>\n",
       "      <th></th>\n",
       "      <th></th>\n",
       "    </tr>\n",
       "  </thead>\n",
       "  <tbody>\n",
       "    <tr>\n",
       "      <th>2017-01</th>\n",
       "      <td>86617.84</td>\n",
       "      <td>11823.29</td>\n",
       "    </tr>\n",
       "    <tr>\n",
       "      <th>2017-02</th>\n",
       "      <td>188827.97</td>\n",
       "      <td>29675.03</td>\n",
       "    </tr>\n",
       "    <tr>\n",
       "      <th>2017-03</th>\n",
       "      <td>271206.55</td>\n",
       "      <td>42633.53</td>\n",
       "    </tr>\n",
       "    <tr>\n",
       "      <th>2017-04</th>\n",
       "      <td>270871.37</td>\n",
       "      <td>39596.83</td>\n",
       "    </tr>\n",
       "    <tr>\n",
       "      <th>2017-05</th>\n",
       "      <td>379463.35</td>\n",
       "      <td>59360.30</td>\n",
       "    </tr>\n",
       "    <tr>\n",
       "      <th>2017-06</th>\n",
       "      <td>320631.83</td>\n",
       "      <td>51713.95</td>\n",
       "    </tr>\n",
       "    <tr>\n",
       "      <th>2017-07</th>\n",
       "      <td>370281.02</td>\n",
       "      <td>64247.12</td>\n",
       "    </tr>\n",
       "    <tr>\n",
       "      <th>2017-08</th>\n",
       "      <td>409435.64</td>\n",
       "      <td>69146.54</td>\n",
       "    </tr>\n",
       "    <tr>\n",
       "      <th>2017-09</th>\n",
       "      <td>453257.96</td>\n",
       "      <td>71729.87</td>\n",
       "    </tr>\n",
       "    <tr>\n",
       "      <th>2017-10</th>\n",
       "      <td>477281.33</td>\n",
       "      <td>75264.53</td>\n",
       "    </tr>\n",
       "    <tr>\n",
       "      <th>2017-11</th>\n",
       "      <td>716564.41</td>\n",
       "      <td>120656.11</td>\n",
       "    </tr>\n",
       "    <tr>\n",
       "      <th>2017-12</th>\n",
       "      <td>569970.15</td>\n",
       "      <td>91516.86</td>\n",
       "    </tr>\n",
       "    <tr>\n",
       "      <th>2018-01</th>\n",
       "      <td>684245.83</td>\n",
       "      <td>112920.34</td>\n",
       "    </tr>\n",
       "    <tr>\n",
       "      <th>2018-02</th>\n",
       "      <td>618999.62</td>\n",
       "      <td>103966.72</td>\n",
       "    </tr>\n",
       "    <tr>\n",
       "      <th>2018-03</th>\n",
       "      <td>725608.96</td>\n",
       "      <td>124586.21</td>\n",
       "    </tr>\n",
       "    <tr>\n",
       "      <th>2018-04</th>\n",
       "      <td>695091.05</td>\n",
       "      <td>115019.68</td>\n",
       "    </tr>\n",
       "    <tr>\n",
       "      <th>2018-05</th>\n",
       "      <td>719703.34</td>\n",
       "      <td>113733.05</td>\n",
       "    </tr>\n",
       "    <tr>\n",
       "      <th>2018-06</th>\n",
       "      <td>643047.88</td>\n",
       "      <td>115357.05</td>\n",
       "    </tr>\n",
       "    <tr>\n",
       "      <th>2018-07</th>\n",
       "      <td>641446.78</td>\n",
       "      <td>118448.23</td>\n",
       "    </tr>\n",
       "  </tbody>\n",
       "</table>\n",
       "</div>"
      ],
      "text/plain": [
       "                       price  freight_value\n",
       "order_approved_at                          \n",
       "2017-01             86617.84       11823.29\n",
       "2017-02            188827.97       29675.03\n",
       "2017-03            271206.55       42633.53\n",
       "2017-04            270871.37       39596.83\n",
       "2017-05            379463.35       59360.30\n",
       "2017-06            320631.83       51713.95\n",
       "2017-07            370281.02       64247.12\n",
       "2017-08            409435.64       69146.54\n",
       "2017-09            453257.96       71729.87\n",
       "2017-10            477281.33       75264.53\n",
       "2017-11            716564.41      120656.11\n",
       "2017-12            569970.15       91516.86\n",
       "2018-01            684245.83      112920.34\n",
       "2018-02            618999.62      103966.72\n",
       "2018-03            725608.96      124586.21\n",
       "2018-04            695091.05      115019.68\n",
       "2018-05            719703.34      113733.05\n",
       "2018-06            643047.88      115357.05\n",
       "2018-07            641446.78      118448.23"
      ]
     },
     "execution_count": 9,
     "metadata": {},
     "output_type": "execute_result"
    }
   ],
   "source": [
    "#preparando base de meses\n",
    "dfpred = dfamostra[['order_approved_at','price','freight_value']]\n",
    "dfpred['order_approved_at'] =  pd.to_datetime(dfpred['order_approved_at']).dt.to_period('m')\n",
    "dfpred = dfpred.groupby('order_approved_at').sum()\n",
    "dfpred"
   ]
  },
  {
   "cell_type": "code",
   "execution_count": 10,
   "metadata": {},
   "outputs": [
    {
     "name": "stdout",
     "output_type": "stream",
     "text": [
      "Gráfico com a evolução de valor total produto e valor total frete\n"
     ]
    },
    {
     "data": {
      "text/plain": [
       "<AxesSubplot:xlabel='order_approved_at'>"
      ]
     },
     "execution_count": 10,
     "metadata": {},
     "output_type": "execute_result"
    },
    {
     "data": {
      "text/plain": [
       "<Figure size 720x720 with 0 Axes>"
      ]
     },
     "metadata": {},
     "output_type": "display_data"
    },
    {
     "data": {
      "image/png": "[encoded data removed]",
      "text/plain": [
       "<Figure size 432x288 with 1 Axes>"
      ]
     },
     "metadata": {},
     "output_type": "display_data"
    }
   ],
   "source": [
    "print('Gráfico com a evolução de valor total produto e valor total frete')\n",
    "\n",
    "plt.figure(figsize=(10,10))\n",
    "dfpred.plot()"
   ]
  },
  {
   "cell_type": "code",
   "execution_count": 11,
   "metadata": {},
   "outputs": [
    {
     "name": "stderr",
     "output_type": "stream",
     "text": [
      "<ipython-input-11-fa435f2d4b4e>:4: SettingWithCopyWarning: \n",
      "A value is trying to be set on a copy of a slice from a DataFrame.\n",
      "Try using .loc[row_indexer,col_indexer] = value instead\n",
      "\n",
      "See the caveats in the documentation: https://pandas.pydata.org/pandas-docs/stable/user_guide/indexing.html#returning-a-view-versus-a-copy\n",
      "  dfreg['order_approved_at'] =  pd.to_datetime(dfreg['order_approved_at']).dt.to_period('m')\n"
     ]
    },
    {
     "data": {
      "text/html": [
       "<div>\n",
       "<style scoped>\n",
       "    .dataframe tbody tr th:only-of-type {\n",
       "        vertical-align: middle;\n",
       "    }\n",
       "\n",
       "    .dataframe tbody tr th {\n",
       "        vertical-align: top;\n",
       "    }\n",
       "\n",
       "    .dataframe thead th {\n",
       "        text-align: right;\n",
       "    }\n",
       "</style>\n",
       "<table border=\"1\" class=\"dataframe\">\n",
       "  <thead>\n",
       "    <tr style=\"text-align: right;\">\n",
       "      <th></th>\n",
       "      <th>price</th>\n",
       "      <th>freight_value</th>\n",
       "    </tr>\n",
       "  </thead>\n",
       "  <tbody>\n",
       "    <tr>\n",
       "      <th>0</th>\n",
       "      <td>86617.84</td>\n",
       "      <td>11823.29</td>\n",
       "    </tr>\n",
       "    <tr>\n",
       "      <th>1</th>\n",
       "      <td>188827.97</td>\n",
       "      <td>29675.03</td>\n",
       "    </tr>\n",
       "    <tr>\n",
       "      <th>2</th>\n",
       "      <td>271206.55</td>\n",
       "      <td>42633.53</td>\n",
       "    </tr>\n",
       "    <tr>\n",
       "      <th>3</th>\n",
       "      <td>270871.37</td>\n",
       "      <td>39596.83</td>\n",
       "    </tr>\n",
       "    <tr>\n",
       "      <th>4</th>\n",
       "      <td>379463.35</td>\n",
       "      <td>59360.30</td>\n",
       "    </tr>\n",
       "    <tr>\n",
       "      <th>5</th>\n",
       "      <td>320631.83</td>\n",
       "      <td>51713.95</td>\n",
       "    </tr>\n",
       "    <tr>\n",
       "      <th>6</th>\n",
       "      <td>370281.02</td>\n",
       "      <td>64247.12</td>\n",
       "    </tr>\n",
       "    <tr>\n",
       "      <th>7</th>\n",
       "      <td>409435.64</td>\n",
       "      <td>69146.54</td>\n",
       "    </tr>\n",
       "    <tr>\n",
       "      <th>8</th>\n",
       "      <td>453257.96</td>\n",
       "      <td>71729.87</td>\n",
       "    </tr>\n",
       "    <tr>\n",
       "      <th>9</th>\n",
       "      <td>477281.33</td>\n",
       "      <td>75264.53</td>\n",
       "    </tr>\n",
       "    <tr>\n",
       "      <th>10</th>\n",
       "      <td>716564.41</td>\n",
       "      <td>120656.11</td>\n",
       "    </tr>\n",
       "    <tr>\n",
       "      <th>11</th>\n",
       "      <td>569970.15</td>\n",
       "      <td>91516.86</td>\n",
       "    </tr>\n",
       "    <tr>\n",
       "      <th>12</th>\n",
       "      <td>684245.83</td>\n",
       "      <td>112920.34</td>\n",
       "    </tr>\n",
       "    <tr>\n",
       "      <th>13</th>\n",
       "      <td>618999.62</td>\n",
       "      <td>103966.72</td>\n",
       "    </tr>\n",
       "    <tr>\n",
       "      <th>14</th>\n",
       "      <td>725608.96</td>\n",
       "      <td>124586.21</td>\n",
       "    </tr>\n",
       "    <tr>\n",
       "      <th>15</th>\n",
       "      <td>695091.05</td>\n",
       "      <td>115019.68</td>\n",
       "    </tr>\n",
       "    <tr>\n",
       "      <th>16</th>\n",
       "      <td>719703.34</td>\n",
       "      <td>113733.05</td>\n",
       "    </tr>\n",
       "    <tr>\n",
       "      <th>17</th>\n",
       "      <td>643047.88</td>\n",
       "      <td>115357.05</td>\n",
       "    </tr>\n",
       "    <tr>\n",
       "      <th>18</th>\n",
       "      <td>641446.78</td>\n",
       "      <td>118448.23</td>\n",
       "    </tr>\n",
       "  </tbody>\n",
       "</table>\n",
       "</div>"
      ],
      "text/plain": [
       "        price  freight_value\n",
       "0    86617.84       11823.29\n",
       "1   188827.97       29675.03\n",
       "2   271206.55       42633.53\n",
       "3   270871.37       39596.83\n",
       "4   379463.35       59360.30\n",
       "5   320631.83       51713.95\n",
       "6   370281.02       64247.12\n",
       "7   409435.64       69146.54\n",
       "8   453257.96       71729.87\n",
       "9   477281.33       75264.53\n",
       "10  716564.41      120656.11\n",
       "11  569970.15       91516.86\n",
       "12  684245.83      112920.34\n",
       "13  618999.62      103966.72\n",
       "14  725608.96      124586.21\n",
       "15  695091.05      115019.68\n",
       "16  719703.34      113733.05\n",
       "17  643047.88      115357.05\n",
       "18  641446.78      118448.23"
      ]
     },
     "execution_count": 11,
     "metadata": {},
     "output_type": "execute_result"
    }
   ],
   "source": [
    "#preparando base para regressão\n",
    "\n",
    "dfreg = dfamostra[['order_approved_at','price','freight_value']]\n",
    "dfreg['order_approved_at'] =  pd.to_datetime(dfreg['order_approved_at']).dt.to_period('m')\n",
    "dfreg = dfpred.groupby('order_approved_at', as_index=False).sum()\n",
    "dfreg"
   ]
  },
  {
   "cell_type": "code",
   "execution_count": 12,
   "metadata": {},
   "outputs": [
    {
     "data": {
      "text/plain": [
       "LinearRegression()"
      ]
     },
     "execution_count": 12,
     "metadata": {},
     "output_type": "execute_result"
    }
   ],
   "source": [
    "reg = LinearRegression()\n",
    "\n",
    "#set data\n",
    "x = dfreg.index.values.reshape(-1, 1)\n",
    "y = dfreg['price'].values\n",
    "\n",
    "#treinar modelo\n",
    "reg.fit(x,y)"
   ]
  },
  {
   "cell_type": "code",
   "execution_count": 13,
   "metadata": {},
   "outputs": [
    {
     "data": {
      "text/plain": [
       "array([32916.63940351])"
      ]
     },
     "execution_count": 13,
     "metadata": {},
     "output_type": "execute_result"
    }
   ],
   "source": [
    "reg.coef_"
   ]
  },
  {
   "cell_type": "code",
   "execution_count": 14,
   "metadata": {},
   "outputs": [
    {
     "data": {
      "text/plain": [
       "190200.3969473646"
      ]
     },
     "execution_count": 14,
     "metadata": {},
     "output_type": "execute_result"
    }
   ],
   "source": [
    "reg.intercept_"
   ]
  },
  {
   "cell_type": "code",
   "execution_count": 15,
   "metadata": {},
   "outputs": [
    {
     "data": {
      "text/plain": [
       "<AxesSubplot:>"
      ]
     },
     "execution_count": 15,
     "metadata": {},
     "output_type": "execute_result"
    },
    {
     "data": {
      "image/png": "[encoded data removed]",
      "text/plain": [
       "<Figure size 432x288 with 1 Axes>"
      ]
     },
     "metadata": {},
     "output_type": "display_data"
    }
   ],
   "source": [
    "xr = np.array(dfpred['price'])\n",
    "yr = reg.intercept_ + xr*reg.coef_\n",
    "\n",
    "sns.lineplot(x= xr, y= yr)"
   ]
  },
  {
   "cell_type": "code",
   "execution_count": 16,
   "metadata": {},
   "outputs": [
    {
     "data": {
      "text/plain": [
       "array([519366.79098247])"
      ]
     },
     "execution_count": 16,
     "metadata": {},
     "output_type": "execute_result"
    }
   ],
   "source": [
    "reg.predict([[10]])"
   ]
  },
  {
   "cell_type": "code",
   "execution_count": 17,
   "metadata": {},
   "outputs": [
    {
     "data": {
      "text/plain": [
       "count    76680.000000\n",
       "mean       120.534075\n",
       "std        182.854385\n",
       "min          0.850000\n",
       "25%         39.900000\n",
       "50%         74.990000\n",
       "75%        134.990000\n",
       "max       6735.000000\n",
       "Name: price, dtype: float64"
      ]
     },
     "execution_count": 17,
     "metadata": {},
     "output_type": "execute_result"
    }
   ],
   "source": [
    "dfamostra['price'].describe()"
   ]
  },
  {
   "cell_type": "code",
   "execution_count": 18,
   "metadata": {},
   "outputs": [
    {
     "data": {
      "text/plain": [
       "<AxesSubplot:>"
      ]
     },
     "execution_count": 18,
     "metadata": {},
     "output_type": "execute_result"
    },
    {
     "data": {
      "image/png": "[encoded data removed]",
      "text/plain": [
       "<Figure size 432x288 with 1 Axes>"
      ]
     },
     "metadata": {},
     "output_type": "display_data"
    }
   ],
   "source": [
    "dfamostra['price'].plot.box()"
   ]
  }
 ],
 "metadata": {
  "kernelspec": {
   "display_name": "Python 3",
   "language": "python",
   "name": "python3"
  },
  "language_info": {
   "codemirror_mode": {
    "name": "ipython",
    "version": 3
   },
   "file_extension": ".py",
   "mimetype": "text/x-python",
   "name": "python",
   "nbconvert_exporter": "python",
   "pygments_lexer": "ipython3",
   "version": "3.8.5"
  }
 },
 "nbformat": 4,
 "nbformat_minor": 4
}
